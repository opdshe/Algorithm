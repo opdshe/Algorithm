{
 "cells": [
  {
   "cell_type": "markdown",
   "metadata": {},
   "source": [
    "# Lv.1 모의고사\n",
    "수포자는 수학을 포기한 사람의 준말입니다. 수포자 삼인방은 모의고사에 수학 문제를 전부 찍으려 합니다. 수포자는 1번 문제부터 마지막 문제까지 다음과 같이 찍습니다.\n",
    "\n",
    "1번 수포자가 찍는 방식: 1, 2, 3, 4, 5, 1, 2, 3, 4, 5, ...\n",
    "2번 수포자가 찍는 방식: 2, 1, 2, 3, 2, 4, 2, 5, 2, 1, 2, 3, 2, 4, 2, 5, ...\n",
    "3번 수포자가 찍는 방식: 3, 3, 1, 1, 2, 2, 4, 4, 5, 5, 3, 3, 1, 1, 2, 2, 4, 4, 5, 5, ...\n",
    "\n",
    "1번 문제부터 마지막 문제까지의 정답이 순서대로 들은 배열 answers가 주어졌을 때, 가장 많은 문제를 맞힌 사람이 누구인지 배열에 담아 return 하도록 solution 함수를 작성해주세요.\n",
    "\n",
    "제한 조건\n",
    "시험은 최대 10,000 문제로 구성되어있습니다.\n",
    "문제의 정답은 1, 2, 3, 4, 5중 하나입니다.\n",
    "가장 높은 점수를 받은 사람이 여럿일 경우, return하는 값을 오름차순 정렬해주세요."
   ]
  },
  {
   "cell_type": "code",
   "execution_count": 9,
   "metadata": {},
   "outputs": [
    {
     "data": {
      "text/plain": [
       "[1, 2, 3]"
      ]
     },
     "execution_count": 9,
     "metadata": {},
     "output_type": "execute_result"
    }
   ],
   "source": [
    "def solution(answers):\n",
    "    p1 =[1, 2, 3, 4, 5]\n",
    "    p2 = [2, 1, 2, 3, 2, 4, 2, 5]\n",
    "    p3 = [3, 3, 1, 1, 2, 2, 4, 4, 5, 5]\n",
    "    c= [0, 0, 0]\n",
    "    ans=[]\n",
    "    for idx, answer in enumerate(answers):\n",
    "        if answer== p1[idx%5]:\n",
    "            c[0]+=1\n",
    "        if answer == p2[idx%8]:\n",
    "            c[1]+=1\n",
    "        if answer == p3[idx%10]:\n",
    "            c[2]+=1\n",
    "    for idx, val in enumerate(c):\n",
    "        if val == max(c):\n",
    "            ans.append(idx+1)\n",
    "    return ans\n",
    "solution([1,3,2,4,2])"
   ]
  },
  {
   "cell_type": "markdown",
   "metadata": {},
   "source": [
    "# Lv. 2 소수 찾기\n",
    "한자리 숫자가 적힌 종이 조각이 흩어져있습니다. 흩어진 종이 조각을 붙여 소수를 몇 개 만들 수 있는지 알아내려 합니다.\n",
    "\n",
    "각 종이 조각에 적힌 숫자가 적힌 문자열 numbers가 주어졌을 때, 종이 조각으로 만들 수 있는 소수가 몇 개인지 return 하도록 solution 함수를 완성해주세요.\n",
    "\n",
    "제한사항\n",
    "numbers는 길이 1 이상 7 이하인 문자열입니다.\n",
    "numbers는 0~9까지 숫자만으로 이루어져 있습니다.\n",
    "013은 0, 1, 3 숫자가 적힌 종이 조각이 흩어져있다는 의미입니다."
   ]
  },
  {
   "cell_type": "code",
   "execution_count": 10,
   "metadata": {},
   "outputs": [
    {
     "data": {
      "text/plain": [
       "2"
      ]
     },
     "execution_count": 10,
     "metadata": {},
     "output_type": "execute_result"
    }
   ],
   "source": [
    "import itertools\n",
    "def solution(numbers):\n",
    "    charList=list(numbers)\n",
    "    permutation=[]\n",
    "    ans=set()\n",
    "    for item in numbers:\n",
    "        permutation.append(int(item))\n",
    "    for i in range(2, len(numbers)+1):\n",
    "        for item in list(itertools.permutations(charList, i)):\n",
    "            permutation.append(int(''.join(item)))\n",
    "    for item in list(permutation):\n",
    "        if item ==0 or item==1:\n",
    "            continue\n",
    "        token=0\n",
    "        for div in range(2, item):\n",
    "            if item%div==0:\n",
    "                token=1\n",
    "                break\n",
    "        if token==0:\n",
    "            ans.add(item)\n",
    "    return (len(ans))\n",
    "solution(\"011\")"
   ]
  }
 ],
 "metadata": {
  "kernelspec": {
   "display_name": "Python 3",
   "language": "python",
   "name": "python3"
  },
  "language_info": {
   "codemirror_mode": {
    "name": "ipython",
    "version": 3
   },
   "file_extension": ".py",
   "mimetype": "text/x-python",
   "name": "python",
   "nbconvert_exporter": "python",
   "pygments_lexer": "ipython3",
   "version": "3.7.6"
  }
 },
 "nbformat": 4,
 "nbformat_minor": 4
}
