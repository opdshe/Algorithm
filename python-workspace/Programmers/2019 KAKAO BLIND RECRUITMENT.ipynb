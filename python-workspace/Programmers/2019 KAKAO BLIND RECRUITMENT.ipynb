{
 "cells": [
  {
   "cell_type": "markdown",
   "metadata": {},
   "source": [
    "# 후보키\n",
    "프렌즈대학교 컴퓨터공학과 조교인 제이지는 네오 학과장님의 지시로, 학생들의 인적사항을 정리하는 업무를 담당하게 되었다.\n",
    "\n",
    "그의 학부 시절 프로그래밍 경험을 되살려, 모든 인적사항을 데이터베이스에 넣기로 하였고, 이를 위해 정리를 하던 중에 후보키(Candidate Key)에 대한 고민이 필요하게 되었다.\n",
    "\n",
    "후보키에 대한 내용이 잘 기억나지 않던 제이지는, 정확한 내용을 파악하기 위해 데이터베이스 관련 서적을 확인하여 아래와 같은 내용을 확인하였다.\n",
    "\n",
    "관계 데이터베이스에서 릴레이션(Relation)의 튜플(Tuple)을 유일하게 식별할 수 있는 속성(Attribute) 또는 속성의 집합 중, 다음 두 성질을 만족하는 것을 후보 키(Candidate Key)라고 한다.\n",
    "유일성(uniqueness) : 릴레이션에 있는 모든 튜플에 대해 유일하게 식별되어야 한다.\n",
    "최소성(minimality) : 유일성을 가진 키를 구성하는 속성(Attribute) 중 하나라도 제외하는 경우 유일성이 깨지는 것을 의미한다. 즉, 릴레이션의 모든 튜플을 유일하게 식별하는 데 꼭 필요한 속성들로만 구성되어야 한다.\n",
    "제이지를 위해, 아래와 같은 학생들의 인적사항이 주어졌을 때, 후보 키의 최대 개수를 구하라."
   ]
  },
  {
   "cell_type": "code",
   "execution_count": 1,
   "metadata": {},
   "outputs": [
    {
     "data": {
      "text/plain": [
       "2"
      ]
     },
     "execution_count": 1,
     "metadata": {},
     "output_type": "execute_result"
    }
   ],
   "source": [
    "from collections import Counter\n",
    "def solution(relation):\n",
    "    count=0\n",
    "    ans_=[]\n",
    "    ans=[]\n",
    "    for elementNum in range(1, len(relation[0])+1):\n",
    "        for idx in range(len(relation[0])):\n",
    "            tempList=[]\n",
    "            for person in relation:\n",
    "                sub=person[idx:idx+elementNum]\n",
    "                if len(sub)!=elementNum:continue\n",
    "                tempList.append(str(sub))\n",
    "            if len(tempList):\n",
    "                if Counter(tempList).most_common(1)[0][1]==1:\n",
    "                    temp=[]\n",
    "                    token=1\n",
    "                    for item in range(idx, idx+elementNum):\n",
    "                        temp.append(item)\n",
    "                        for an in ans:\n",
    "                            if item in an:token=0\n",
    "                    if token:\n",
    "                        ans.append(temp)\n",
    "                        count+=1\n",
    "    return count\n",
    "solution([[\"100\",\"ryan\",\"music\",\"2\"],[\"200\",\"apeach\",\"math\",\"2\"],[\"300\",\"tube\",\"computer\",\"3\"],[\"400\",\"con\",\"computer\",\"4\"],[\"500\",\"muzi\",\"music\",\"3\"],[\"600\",\"apeach\",\"music\",\"2\"]])"
   ]
  },
  {
   "cell_type": "markdown",
   "metadata": {},
   "source": [
    "# 무지의 먹방 라이브\n",
    "회전판에 먹어야 할 N 개의 음식이 있다.\n",
    "각 음식에는 1부터 N 까지 번호가 붙어있으며, 각 음식을 섭취하는데 일정 시간이 소요된다.\n",
    "무지는 다음과 같은 방법으로 음식을 섭취한다.\n",
    "\n",
    "무지는 1번 음식부터 먹기 시작하며, 회전판은 번호가 증가하는 순서대로 음식을 무지 앞으로 가져다 놓는다.\n",
    "마지막 번호의 음식을 섭취한 후에는 회전판에 의해 다시 1번 음식이 무지 앞으로 온다.\n",
    "무지는 음식 하나를 1초 동안 섭취한 후 남은 음식은 그대로 두고, 다음 음식을 섭취한다.\n",
    "다음 음식이란, 아직 남은 음식 중 다음으로 섭취해야 할 가장 가까운 번호의 음식을 말한다.\n",
    "회전판이 다음 음식을 무지 앞으로 가져오는데 걸리는 시간은 없다고 가정한다.\n",
    "무지가 먹방을 시작한 지 K 초 후에 네트워크 장애로 인해 방송이 잠시 중단되었다.\n",
    "무지는 네트워크 정상화 후 다시 방송을 이어갈 때, 몇 번 음식부터 섭취해야 하는지를 알고자 한다.\n",
    "각 음식을 모두 먹는데 필요한 시간이 담겨있는 배열 food_times, 네트워크 장애가 발생한 시간 K 초가 매개변수로 주어질 때 몇 번 음식부터 다시 섭취하면 되는지 return 하도록 solution 함수를 완성하라."
   ]
  },
  {
   "cell_type": "code",
   "execution_count": 2,
   "metadata": {},
   "outputs": [
    {
     "data": {
      "text/plain": [
       "1"
      ]
     },
     "execution_count": 2,
     "metadata": {},
     "output_type": "execute_result"
    }
   ],
   "source": [
    "import collections\n",
    "def solution(food_times, k):\n",
    "    que=collections.deque()\n",
    "    for idx, food in enumerate(food_times):\n",
    "        que.append([idx+1,food])\n",
    "\n",
    "    while k:\n",
    "        if que:\n",
    "            que[0][1]-=1\n",
    "            if que[0][1]==0:que.popleft()\n",
    "            else: que.rotate(-1)\n",
    "            k-=1\n",
    "        else:return -1\n",
    "\n",
    "    try:return (que.popleft()[0])\n",
    "    except IndexError: return(-1)\n",
    "solution([3, 1, 2], 5)"
   ]
  },
  {
   "cell_type": "markdown",
   "metadata": {},
   "source": [
    "정확도 테스트는 모두 통과했으나, 효율성 테스트에서 시간초과가 났다. queue를 이용하지 않고 푸는 방법을 고려해봐야할 것 같다."
   ]
  }
 ],
 "metadata": {
  "kernelspec": {
   "display_name": "Python 3",
   "language": "python",
   "name": "python3"
  },
  "language_info": {
   "codemirror_mode": {
    "name": "ipython",
    "version": 3
   },
   "file_extension": ".py",
   "mimetype": "text/x-python",
   "name": "python",
   "nbconvert_exporter": "python",
   "pygments_lexer": "ipython3",
   "version": "3.7.6"
  }
 },
 "nbformat": 4,
 "nbformat_minor": 4
}
