{
 "cells": [
  {
   "cell_type": "markdown",
   "metadata": {},
   "source": [
    "# 숫자 만들기\n",
    "\n",
    "선표는 게임을 통해 사칙 연산을 공부하고 있다.\n",
    "\n",
    "N개의 숫자가 적혀 있는 게임 판이 있고, +, -, x, / 의 연산자 카드를 숫자 사이에 끼워 넣어 다양한 결과 값을 구해보기로 했다.\n",
    "\n",
    "수식을 계산할 때 연산자의 우선 순위는 고려하지 않고 왼쪽에서 오른쪽으로 차례대로 계산한다.\n",
    "\n",
    "예를 들어 1, 2, 3 이 적힌 게임 판에 +와 x를 넣어 1 + 2 * 3을 만들면 1 + 2를 먼저 계산하고 그 뒤에 * 를 계산한다.\n",
    "\n",
    "즉 1+2*3의 결과는 9이다.\n",
    "\n",
    " \n",
    "\n",
    "주어진 연산자 카드를 사용하여 수식을 계산했을 때 그 결과가 최대가 되는 수식과 최소가 되는 수식을 찾고, 두 값의 차이를 출력하시오."
   ]
  },
  {
   "cell_type": "code",
   "execution_count": null,
   "metadata": {},
   "outputs": [],
   "source": [
    "def dfs(plus, minus, mul, div, val, idx):\n",
    "    global MAX, MIN\n",
    "    if idx==N-1:\n",
    "        MAX=max(MAX, val)\n",
    "        MIN=min(MIN, val)\n",
    "        return\n",
    "\n",
    "    for i in range(4):\n",
    "        if i ==0:\n",
    "            if plus>0:\n",
    "                temp=val+operand[idx+1]\n",
    "                dfs(plus-1, minus, mul, div, temp, idx+1)\n",
    "        elif i==1:\n",
    "            if minus>0:\n",
    "                temp=val-operand[idx+1]\n",
    "                dfs(plus, minus-1, mul, div, temp, idx+1)\n",
    "        elif i==2:\n",
    "            if mul>0:\n",
    "                temp=val*operand[idx+1]\n",
    "                dfs(plus, minus, mul-1, div, temp, idx+1)\n",
    "        elif i ==3:\n",
    "            if div>0:\n",
    "                temp=int(val/operand[idx+1])\n",
    "                dfs(plus, minus, mul, div-1, temp, idx+1)\n",
    "\n",
    "T = int(input())\n",
    "# 여러개의 테스트 케이스가 주어지므로, 각각을 처리합니다.\n",
    "for test_case in range(1, T + 1):\n",
    "    N = int(input())\n",
    "    operator=list( map( int, input().split()))\n",
    "    operand=list( map( int, input().split()))\n",
    "    MAX=-9999999999\n",
    "    MIN=999999999\n",
    "    dfs(operator[0], operator[1], operator[2], operator[3], operand[0], 0)\n",
    "    print(\"#{} {}\".format(test_case, MAX-MIN))"
   ]
  }
 ],
 "metadata": {
  "kernelspec": {
   "display_name": "Python 3",
   "language": "python",
   "name": "python3"
  },
  "language_info": {
   "codemirror_mode": {
    "name": "ipython",
    "version": 3
   },
   "file_extension": ".py",
   "mimetype": "text/x-python",
   "name": "python",
   "nbconvert_exporter": "python",
   "pygments_lexer": "ipython3",
   "version": "3.7.6"
  }
 },
 "nbformat": 4,
 "nbformat_minor": 4
}
