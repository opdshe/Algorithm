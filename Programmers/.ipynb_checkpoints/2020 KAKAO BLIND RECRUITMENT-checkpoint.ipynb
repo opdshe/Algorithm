{
 "cells": [
  {
   "cell_type": "markdown",
   "metadata": {},
   "source": [
    "# 문자열 압축\n",
    "데이터 처리 전문가가 되고 싶은 어피치는 문자열을 압축하는 방법에 대해 공부를 하고 있습니다.  \n",
    "최근에 대량의 데이터 처리를 위한 간단한 비손실 압축 방법에 대해 공부를 하고 있는데,  \n",
    "문자열에서 같은 값이 연속해서 나타나는 것을 그 문자의 개수와 반복되는 값으로 표현하여 더 짧은 문자열로 줄여서 표현하는 알고리즘을 공부하고 있습니다.  \n",
    "간단한 예로 aabbaccc의 경우 2a2ba3c(문자가 반복되지 않아 한번만 나타난 경우 1은 생략함)와 같이 표현할 수 있는데,  \n",
    "이러한 방식은 반복되는 문자가 적은 경우 압축률이 낮다는 단점이 있습니다.  \n",
    "예를 들면, abcabcdede와 같은 문자열은 전혀 압축되지 않습니다. 어피치는 이러한 단점을 해결하기 위해 문자열을 1개 이상의 단위로 잘라서 압축하여 더 짧은 문자열로 표현할 수 있는지 방법을 찾아보려고 합니다.  \n",
    "\n",
    "예를 들어, ababcdcdababcdcd의 경우 문자를 1개 단위로 자르면 전혀 압축되지 않지만, 2개 단위로 잘라서 압축한다면 2ab2cd2ab2cd로 표현할 수 있습니다.  \n",
    "다른 방법으로 8개 단위로 잘라서 압축한다면 2ababcdcd로 표현할 수 있으며, 이때가 가장 짧게 압축하여 표현할 수 있는 방법입니다.  \n",
    "\n",
    "다른 예로, abcabcdede와 같은 경우, 문자를 2개 단위로 잘라서 압축하면 abcabc2de가 되지만, 3개 단위로 자른다면 2abcdede가 되어 3개 단위가 가장 짧은 압축 방법이 됩니다.  이때 3개 단위로 자르고 마지막에 남는 문자열은 그대로 붙여주면 됩니다.\n",
    "\n",
    "압축할 문자열 s가 매개변수로 주어질 때, 위에 설명한 방법으로 1개 이상 단위로 문자열을 잘라 압축하여 표현한 문자열 중 가장 짧은 것의 길이를 return 하도록 solution 함수를 완성해주세요."
   ]
  },
  {
   "cell_type": "code",
   "execution_count": 3,
   "metadata": {},
   "outputs": [
    {
     "name": "stdout",
     "output_type": "stream",
     "text": [
      "17\n"
     ]
    }
   ],
   "source": [
    "def solution(s):\n",
    "    minLength=len(s)\n",
    "    for i in range(1, int(len(s)/2)+1):\n",
    "        idx=0\n",
    "        sub=s[0:i]\n",
    "        ans=\"\"\n",
    "        count=0\n",
    "        while idx<len(s):\n",
    "            if s[idx:idx+i]!=sub:\n",
    "                if count==1:ans+=sub\n",
    "                else:ans+=str(count)+sub\n",
    "                sub=s[idx:idx+i]\n",
    "                count=1\n",
    "            else:\n",
    "                count+=1\n",
    "            idx+=i\n",
    "        if count==1:ans+=sub\n",
    "        else:ans+=str(count)+sub\n",
    "\n",
    "        minLength=min(minLength, len(ans))\n",
    "    print(minLength)\n",
    "\n",
    "solution(\"xababcdcdababcdcd\")"
   ]
  },
  {
   "cell_type": "markdown",
   "metadata": {},
   "source": [
    "# 가사 검색\n",
    "친구들로부터 천재 프로그래머로 불리는 프로도는 음악을 하는 친구로부터 자신이 좋아하는 노래 가사에 사용된 단어들 중에  \n",
    "특정 키워드가 몇 개 포함되어 있는지 궁금하니 프로그램으로 개발해 달라는 제안을 받았습니다.  \n",
    "그 제안 사항 중, 키워드는 와일드카드 문자중 하나인 '?'가 포함된 패턴 형태의 문자열을 뜻합니다.   \n",
    "와일드카드 문자인 '?'는 글자 하나를 의미하며, 어떤 문자에도 매치된다고 가정합니다.  \n",
    "예를 들어 \"fro??\"는 \"frodo\", \"front\", \"frost\" 등에  매치되지만 \"frame\", \"frozen\"에는 매치되지 않습니다.  \n",
    "\n",
    "가사에 사용된 모든 단어들이 담긴 배열 words와 찾고자 하는 키워드가 담긴 배열 queries가 주어질 때, 각 키워드 별로 매치된 단어가 몇 개인지 순서대로 배열에 담아 반환하도록 solution 함수를 완성해 주세요.\n"
   ]
  },
  {
   "cell_type": "code",
   "execution_count": 4,
   "metadata": {},
   "outputs": [
    {
     "data": {
      "text/plain": [
       "[3, 2, 4, 1, 0]"
      ]
     },
     "execution_count": 4,
     "metadata": {},
     "output_type": "execute_result"
    }
   ],
   "source": [
    "def solution(words, queries):\n",
    "    ans=[]\n",
    "    for query in queries:\n",
    "        count=0\n",
    "        checkList=[]\n",
    "        for idx, char in enumerate(query):\n",
    "            if char != '?':\n",
    "                checkList.append(idx)\n",
    "        for word in words:\n",
    "            if len(word)!=len(query):\n",
    "                continue\n",
    "            token=True\n",
    "            for checkIdx in checkList:\n",
    "                if word[checkIdx]!=query[checkIdx]:\n",
    "                    token=False\n",
    "                    break\n",
    "            if token==True:count+=1\n",
    "        ans.append(count)\n",
    "    return (ans)\n",
    "solution([\"frodo\", \"front\", \"frost\", \"frozen\", \"frame\", \"kakao\"], [\"fro??\", \"????o\", \"fr???\", \"fro???\", \"pro?\"])"
   ]
  },
  {
   "cell_type": "markdown",
   "metadata": {},
   "source": [
    "정확성 테스트는 모두 통과하였으나, 효율성 테스트에서 2/5점수밖에 받지 못했다. Trie자료구조를 사용하면 해결할 수 있다고 한다."
   ]
  }
 ],
 "metadata": {
  "kernelspec": {
   "display_name": "Python 3",
   "language": "python",
   "name": "python3"
  },
  "language_info": {
   "codemirror_mode": {
    "name": "ipython",
    "version": 3
   },
   "file_extension": ".py",
   "mimetype": "text/x-python",
   "name": "python",
   "nbconvert_exporter": "python",
   "pygments_lexer": "ipython3",
   "version": "3.7.6"
  }
 },
 "nbformat": 4,
 "nbformat_minor": 4
}
