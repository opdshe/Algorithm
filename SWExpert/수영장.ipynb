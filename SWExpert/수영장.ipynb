{
 "cells": [
  {
   "attachments": {
    "image.png": {
     "image/png": "[encoded data removed]"
    }
   },
   "cell_type": "markdown",
   "metadata": {},
   "source": [
    "# 수영장\n",
    "김 프로는 수영장을 이용한다.\n",
    "\n",
    "김 프로는 지출이 너무 많아 내년 1년 동안 각 달의 이용 계획을 수립하고 가장 적은 비용으로 수영장을 이용할 수 있는 방법을 찾고 있다.\n",
    "\n",
    "수영장에서 판매하고 있는 이용권은 아래와 같이 4 종류이다.\n",
    "\n",
    "   ① 1일 이용권 : 1일 이용이 가능하다.\n",
    "\n",
    "   ② 1달 이용권 : 1달 동안 이용이 가능하다. 1달 이용권은 매달 1일부터 시작한다.\n",
    "\n",
    "   ③ 3달 이용권 : 연속된 3달 동안 이용이 가능하다. 3달 이용권은 매달 1일부터 시작한다.\n",
    "       (11월, 12월에도 3달 이용권을 사용할 수 있다 / 다음 해의 이용권만을 구매할 수 있기 때문에 3달 이용권은 11월, 12월, 1윌 이나 12월, 1월, 2월 동안 사용하도록 구매할 수는 없다.)\n",
    "\n",
    "   ④ 1년 이용권 : 1년 동안 이용이 가능하다. 1년 이용권은 매년 1월 1일부터 시작한다.\n",
    "\n",
    "![image.png](attachment:image.png)\n",
    "\n",
    "이용 계획에 나타나는 숫자는 해당 달에 수영장을 이용할 날의 수를 의미한다.\n",
    "\n",
    "각 이용권의 요금과 각 달의 이용 계획이 입력으로 주어질 때,\n",
    "\n",
    "가장 적은 비용으로 수영장을 이용할 수 있는 방법을 찾고 그 비용을 정답으로 출력하는 프로그램을 작성하라.\n",
    "\n",
    "출처: https://swexpertacademy.com/main/code/problem/problemDetail.do?contestProbId=AV5PpFQaAQMDFAUq&categoryId=AV5PpFQaAQMDFAUq&categoryType=CODE"
   ]
  },
  {
   "cell_type": "code",
   "execution_count": null,
   "metadata": {},
   "outputs": [],
   "source": [
    "def dfs(month, money):\n",
    "    global ans\n",
    "    if month == 12:\n",
    "        ans=min(ans, money)\n",
    "        return\n",
    "    if plan[month] ==0:\n",
    "        dfs(month+1, money)\n",
    "    else:\n",
    "        #1일권 사용\n",
    "        add = plan[month]*price[0]\n",
    "        dfs(month+1, money+add)\n",
    "        #1달 이용권\n",
    "        add = price[1]\n",
    "        dfs(month+1, money+add)\n",
    "    if month+3<=12:\n",
    "        dfs(month+3, money+price[2])\n",
    "\n",
    "\n",
    "T = int(input())\n",
    "# 여러개의 테스트 케이스가 주어지므로, 각각을 처리합니다.\n",
    "for test_case in range(1, T + 1):\n",
    "    price = list(map(int, input().split()))\n",
    "    plan = list(map(int, input().split()))\n",
    "    ans=price[3]\n",
    "    dfs(0, 0)\n",
    "    print(\"#{} {}\".format(test_case, ans))\n",
    "    "
   ]
  }
 ],
 "metadata": {
  "kernelspec": {
   "display_name": "Python 3",
   "language": "python",
   "name": "python3"
  },
  "language_info": {
   "codemirror_mode": {
    "name": "ipython",
    "version": 3
   },
   "file_extension": ".py",
   "mimetype": "text/x-python",
   "name": "python",
   "nbconvert_exporter": "python",
   "pygments_lexer": "ipython3",
   "version": "3.7.6"
  }
 },
 "nbformat": 4,
 "nbformat_minor": 4
}
